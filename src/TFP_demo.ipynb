{
 "cells": [
  {
   "cell_type": "code",
   "execution_count": null,
   "metadata": {
    "colab": {
     "base_uri": "https://localhost:8080/"
    },
    "id": "eAUPB6sSf3Hj",
    "outputId": "5c4ccda6-f6a3-409b-c831-66b64b540405"
   },
   "outputs": [],
   "source": [
    "!pip3 install -q git+git://github.com/arviz-devs/arviz.git\n",
    "!pip install \"arviz[all]\"\n",
    "# !pip3 install --upgrade tensorflow-probability\n",
    "!pip install colorcet\n",
    "!pip install seaborn"
   ]
  },
  {
   "cell_type": "code",
   "execution_count": 3,
   "metadata": {
    "id": "IwI9MR8jSKyy"
   },
   "outputs": [],
   "source": [
    "from pprint import pprint\n",
    "import matplotlib.pyplot as plt\n",
    "import colorcet as cc\n",
    "import numpy as np\n",
    "import seaborn as sns\n",
    "import pandas as pd\n",
    "import arviz as az\n",
    "\n",
    "import tensorflow as tf\n",
    "import tensorflow_probability as tfp\n",
    "\n",
    "sns.reset_defaults()\n",
    "#sns.set_style('whitegrid')\n",
    "#sns.set_context('talk')\n",
    "sns.set_context(context='talk',font_scale=0.7)\n",
    "\n",
    "%config InlineBackend.figure_format = 'retina'\n",
    "%matplotlib inline\n",
    "\n",
    "tfd = tfp.distributions\n",
    "tfb = tfp.bijectors\n",
    "\n",
    "dtype = tf.float64"
   ]
  },
  {
   "cell_type": "markdown",
   "metadata": {
    "id": "EJyleXbDhdGA"
   },
   "source": [
    "create grid of parameters for every location  \n",
    "MxN grid matching fire map  \n",
    "MxNx3 where each channel is data-point  \n",
    "Starting off with baseline model (proximity to fire-point)"
   ]
  },
  {
   "cell_type": "code",
   "execution_count": 4,
   "metadata": {
    "colab": {
     "base_uri": "https://localhost:8080/"
    },
    "id": "qvuRHyr6iMN_",
    "outputId": "fc178169-cae9-4ff4-c082-a51f1909f1fc"
   },
   "outputs": [
    {
     "data": {
      "text/plain": [
       "<tf.Tensor: shape=(10, 3), dtype=float32, numpy=\n",
       "array([[0.84022886, 0.54673624, 0.77764857],\n",
       "       [0.508799  , 0.9002625 , 0.70757705],\n",
       "       [0.9330821 , 0.8374257 , 0.8960349 ],\n",
       "       [0.5868667 , 0.597997  , 0.9946963 ],\n",
       "       [0.90322435, 0.8328464 , 0.9975814 ],\n",
       "       [0.63318616, 0.617     , 0.9265699 ],\n",
       "       [0.98078173, 0.81471044, 0.9823448 ],\n",
       "       [0.7997662 , 0.8649959 , 0.5623276 ],\n",
       "       [0.9928872 , 0.83983034, 0.5940608 ],\n",
       "       [0.7888879 , 0.7570533 , 0.703988  ]], dtype=float32)>"
      ]
     },
     "execution_count": 4,
     "metadata": {},
     "output_type": "execute_result"
    }
   ],
   "source": [
    "# treating as ground truth\n",
    "fire = np.zeros((10, 15))\n",
    "\n",
    "# uniform for prior \n",
    "uniforms = tfd.Uniform([0.5, 0.5, 0.5])\n",
    "prior = tf.ones(shape=(10, 15))/2\n",
    "\n",
    "uniforms.sample(10)"
   ]
  },
  {
   "cell_type": "code",
   "execution_count": 25,
   "metadata": {
    "colab": {
     "base_uri": "https://localhost:8080/",
     "height": 289
    },
    "id": "rPVVH1gpjuKE",
    "outputId": "cedc2b3c-302d-4e53-c771-7da2bf1951e1"
   },
   "outputs": [
    {
     "data": {
      "text/plain": [
       "<matplotlib.image.AxesImage at 0x7fb25bc35b10>"
      ]
     },
     "execution_count": 25,
     "metadata": {},
     "output_type": "execute_result"
    },
    {
     "data": {
      "image/png": "[encoded data removed]",
      "text/plain": [
       "<Figure size 432x288 with 1 Axes>"
      ]
     },
     "metadata": {
      "image/png": {
       "height": 255,
       "width": 360
      },
      "needs_background": "light"
     },
     "output_type": "display_data"
    }
   ],
   "source": [
    "# filling in fire information\n",
    "# This array represents what pixels are currently on fire fromt the MODIS firemask\n",
    "\n",
    "fire[3, 12] = 1\n",
    "fire[4, 12] = 1\n",
    "fire[5, 12] = 1\n",
    "fire[4, 13] = 1\n",
    "fire[4, 11] = 1\n",
    "fire[3, 11] = 1\n",
    "fire[3, 12] = 1\n",
    "\n",
    "plt.imshow(fire, cmap='gray')"
   ]
  },
  {
   "cell_type": "markdown",
   "metadata": {
    "id": "m4R8zZeBpQHl"
   },
   "source": [
    "figure out for how to do for single point, then scale up  \n",
    "this is **not** a time-series problem, aim is to learn $P(\\theta)$, which translates to a Bayesian Regression  \n",
    "point would have:\n",
    "- $\\theta$ for prior probability  \n",
    "- Vector holding: distance to nearest fire-point, etc\n",
    "\n",
    "Aim is to derive relationship for $P(\\theta|\\text{Actual Data for All Actual Data})$, put a little less vaguely (for each data point, subscript for theta indexing spatially omitted since this is not a spatial problem either):  \n",
    "$$\n",
    "P(\\theta_{t}|\\overrightarrow{y_t},\\theta_{t-1})\n",
    "$$"
   ]
  },
  {
   "cell_type": "code",
   "execution_count": 14,
   "metadata": {
    "colab": {
     "base_uri": "https://localhost:8080/"
    },
    "id": "gLEgVghwmqgo",
    "outputId": "91cff4e3-40e9-4e5f-f178-c79f277d852c"
   },
   "outputs": [
    {
     "name": "stdout",
     "output_type": "stream",
     "text": [
      "[0.918938518 5000.91895 13.4189386]\n"
     ]
    }
   ],
   "source": [
    "y, rv_y = [0, 100,-5], tfd.Normal(0, 1)\n",
    "\n",
    "negloklik = lambda y, rv_y: -rv_y.log_prob(y)\n",
    "tf.print(negloklik(y, rv_y))"
   ]
  }
 ],
 "metadata": {
  "accelerator": "GPU",
  "colab": {
   "collapsed_sections": [],
   "name": "TFP.ipynb",
   "provenance": []
  },
  "kernelspec": {
   "display_name": "Python 3",
   "language": "python",
   "name": "python3"
  },
  "language_info": {
   "codemirror_mode": {
    "name": "ipython",
    "version": 3
   },
   "file_extension": ".py",
   "mimetype": "text/x-python",
   "name": "python",
   "nbconvert_exporter": "python",
   "pygments_lexer": "ipython3",
   "version": "3.7.11"
  }
 },
 "nbformat": 4,
 "nbformat_minor": 4
}
